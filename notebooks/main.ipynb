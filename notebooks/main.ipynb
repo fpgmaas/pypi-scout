{
 "cells": [
  {
   "cell_type": "code",
   "execution_count": null,
   "id": "4bb61e27-eacb-4404-be88-42b65a295c3f",
   "metadata": {},
   "outputs": [],
   "source": [
    "%load_ext autoreload\n",
    "%autoreload 2"
   ]
  },
  {
   "cell_type": "code",
   "execution_count": null,
   "id": "62d90df3-315d-4b22-a970-0d5fabf13db8",
   "metadata": {},
   "outputs": [],
   "source": [
    "import os\n",
    "os.chdir('..')"
   ]
  },
  {
   "cell_type": "code",
   "execution_count": null,
   "id": "6dabedd9-bca8-49ae-89db-e600363ca109",
   "metadata": {},
   "outputs": [],
   "source": [
    "import polars as pl\n",
    "from dotenv import load_dotenv\n",
    "from pypi_llm.config import Config\n",
    "from pypi_llm.data.description_cleaner import DescriptionCleaner, CLEANING_FAILED\n",
    "from pypi_llm.data.reader import DataReader\n",
    "\n",
    "load_dotenv()\n",
    "config = Config()\n",
    "\n",
    "df = DataReader(config.DATA_DIR).read()\n",
    "df = DescriptionCleaner().clean(df, \"description\", \"description_cleaned\")\n",
    "df = df.filter(~pl.col(\"description_cleaned\").is_null())\n",
    "df = df.filter(pl.col(\"description_cleaned\")!=CLEANING_FAILED)"
   ]
  },
  {
   "cell_type": "code",
   "execution_count": null,
   "id": "780c6b36-d0ce-4eb9-820c-e8e324115309",
   "metadata": {},
   "outputs": [],
   "source": [
    "query = \"I want to make beautiful data visualizations\""
   ]
  },
  {
   "cell_type": "code",
   "execution_count": null,
   "id": "116a59f2-c3e7-476b-ad9b-272d38d30234",
   "metadata": {},
   "outputs": [],
   "source": [
    "from sentence_transformers import SentenceTransformer\n",
    "model = SentenceTransformer(config.EMBEDDINGS_MODEL)\n",
    "embeddings = model.encode(query)"
   ]
  },
  {
   "cell_type": "code",
   "execution_count": null,
   "id": "a4fe8268-7660-46aa-b67e-2e18a426dc55",
   "metadata": {},
   "outputs": [],
   "source": [
    "from pinecone import Pinecone, Index\n",
    "pc = Pinecone(api_key=config.PINECONE_TOKEN)\n",
    "index = pc.Index(config.PINECONE_INDEX_NAME)\n",
    "\n",
    "matches = index.query(\n",
    "    namespace=\"ns1\",\n",
    "    vector=embeddings.tolist(),\n",
    "    top_k=50,\n",
    "    include_values=False\n",
    ")"
   ]
  },
  {
   "cell_type": "code",
   "execution_count": null,
   "id": "dc6d589e-e66e-4adc-922c-2ef7713937af",
   "metadata": {},
   "outputs": [],
   "source": [
    "df_matches = pl.from_dicts([{'name' : x['id'], 'similarity': x['score']} for x in matches['matches']])"
   ]
  },
  {
   "cell_type": "code",
   "execution_count": null,
   "id": "29836c12-25e1-4474-8465-e3a5cd9953a6",
   "metadata": {},
   "outputs": [],
   "source": [
    "df_matches = df_matches.join(df, how = 'left', on =  'name')"
   ]
  },
  {
   "cell_type": "code",
   "execution_count": null,
   "id": "1b1fb51b-c40b-4667-8fe3-48e8b3f6ea31",
   "metadata": {},
   "outputs": [],
   "source": [
    "df_matches.sort('weekly_downloads', descending=True)"
   ]
  },
  {
   "cell_type": "code",
   "execution_count": null,
   "id": "a836b50e-7d6b-4eba-aadb-8ea41b57b5c0",
   "metadata": {},
   "outputs": [],
   "source": []
  }
 ],
 "metadata": {
  "kernelspec": {
   "display_name": "Python 3 (ipykernel)",
   "language": "python",
   "name": "python3"
  },
  "language_info": {
   "codemirror_mode": {
    "name": "ipython",
    "version": 3
   },
   "file_extension": ".py",
   "mimetype": "text/x-python",
   "name": "python",
   "nbconvert_exporter": "python",
   "pygments_lexer": "ipython3",
   "version": "3.10.14"
  }
 },
 "nbformat": 4,
 "nbformat_minor": 5
}
