{
 "cells": [
  {
   "cell_type": "code",
   "execution_count": null,
   "id": "4bb61e27-eacb-4404-be88-42b65a295c3f",
   "metadata": {},
   "outputs": [],
   "source": [
    "%load_ext autoreload\n",
    "%autoreload 2"
   ]
  },
  {
   "cell_type": "code",
   "execution_count": null,
   "id": "62d90df3-315d-4b22-a970-0d5fabf13db8",
   "metadata": {},
   "outputs": [],
   "source": [
    "import os\n",
    "os.chdir('..')"
   ]
  },
  {
   "cell_type": "code",
   "execution_count": null,
   "id": "4ba498cb-82cc-4215-a923-6a01c5dd5f13",
   "metadata": {},
   "outputs": [],
   "source": [
    "import polars as pl\n",
    "from dotenv import load_dotenv\n",
    "from pypi_llm.config import Config\n",
    "from pypi_llm.description_cleaner import DescriptionCleaner, CLEANING_FAILED\n",
    "\n",
    "load_dotenv()\n",
    "config = Config()"
   ]
  },
  {
   "cell_type": "code",
   "execution_count": null,
   "id": "caf13777-d8db-41cf-87d4-d9d8b21fd987",
   "metadata": {},
   "outputs": [],
   "source": [
    "df = pl.read_csv(\"data/pypi_dataset.csv\")\n",
    "df = df.rename({\n",
    "    \"project_name\" : \"name\",\n",
    "    \"project_description\" : \"description\",\n",
    "    \"latest_project_version\" : \"latest_version\",\n",
    "    \"project_number_of_downloads\" : \"number_of_downloads\",\n",
    "})\n",
    "df = df.unique(subset=\"name\")\n",
    "df = df.filter(~pl.col(\"description\").is_null())\n",
    "df = df.sort(\"number_of_downloads\", descending=True)"
   ]
  },
  {
   "cell_type": "code",
   "execution_count": null,
   "id": "1629f4cd-c878-4b09-8283-172281878827",
   "metadata": {},
   "outputs": [],
   "source": [
    "df = DescriptionCleaner().clean(df, \"description\", \"description_cleaned\")\n",
    "df = df.filter(~pl.col(\"description_cleaned\").is_null())\n",
    "df = df.filter(pl.col(\"description_cleaned\")!=CLEANING_FAILED)"
   ]
  },
  {
   "cell_type": "code",
   "execution_count": null,
   "id": "26cca62a-d99c-4c58-ba8b-2e9681f29e8d",
   "metadata": {},
   "outputs": [],
   "source": [
    "from pypi_llm.vector_database_upserter import VectorDatabaseUpserter\n",
    "upserter = VectorDatabaseUpserter(\n",
    "    pinecone_token = config.PINECONE_TOKEN, \n",
    "    pinecone_index_name = config.PINECONE_INDEX_NAME,\n",
    "    embeddings_model_name = config.EMBEDDINGS_MODEL\n",
    ")"
   ]
  },
  {
   "cell_type": "code",
   "execution_count": null,
   "id": "80dd3059-eef3-4ea1-93c7-716bad0adb2b",
   "metadata": {},
   "outputs": [],
   "source": [
    "upserter.upsert_polars(df, key_column=\"name\", text_column=\"description_cleaned\")"
   ]
  },
  {
   "cell_type": "code",
   "execution_count": null,
   "id": "25a47a93-cf79-45d5-866b-02eae44845ee",
   "metadata": {},
   "outputs": [],
   "source": [
    "from sentence_transformers import SentenceTransformer\n",
    "model = SentenceTransformer(config.EMBEDDINGS_MODEL)\n",
    "embeddings = model.encode(query)"
   ]
  },
  {
   "cell_type": "code",
   "execution_count": null,
   "id": "a4fe8268-7660-46aa-b67e-2e18a426dc55",
   "metadata": {},
   "outputs": [],
   "source": [
    "from pinecone import Pinecone, Index\n",
    "pc = Pinecone(api_key=config.PINECONE_TOKEN)\n",
    "index = pc.Index(config.PINECONE_INDEX_NAME)\n",
    "\n",
    "index.query(\n",
    "    namespace=\"ns1\",\n",
    "    vector=embeddings.tolist(),\n",
    "    top_k=50,\n",
    "    include_values=False\n",
    ")"
   ]
  },
  {
   "cell_type": "code",
   "execution_count": null,
   "id": "8690f7d0-bb53-43ef-9c8b-23b311d44157",
   "metadata": {},
   "outputs": [],
   "source": []
  }
 ],
 "metadata": {
  "kernelspec": {
   "display_name": "Python 3 (ipykernel)",
   "language": "python",
   "name": "python3"
  },
  "language_info": {
   "codemirror_mode": {
    "name": "ipython",
    "version": 3
   },
   "file_extension": ".py",
   "mimetype": "text/x-python",
   "name": "python",
   "nbconvert_exporter": "python",
   "pygments_lexer": "ipython3",
   "version": "3.10.14"
  }
 },
 "nbformat": 4,
 "nbformat_minor": 5
}
