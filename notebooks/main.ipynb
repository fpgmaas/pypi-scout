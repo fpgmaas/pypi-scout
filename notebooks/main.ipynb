{
 "cells": [
  {
   "cell_type": "code",
   "execution_count": null,
   "id": "4bb61e27-eacb-4404-be88-42b65a295c3f",
   "metadata": {},
   "outputs": [],
   "source": [
    "%load_ext autoreload\n",
    "%autoreload 2"
   ]
  },
  {
   "cell_type": "code",
   "execution_count": null,
   "id": "ecd6821f-bf99-415e-8154-176eecda5cba",
   "metadata": {},
   "outputs": [],
   "source": [
    "import requests\n",
    "import json\n",
    "from bs4 import BeautifulSoup\n",
    "\n",
    "def get_package_list():\n",
    "    url = \"https://pypi.org/simple/\"\n",
    "    response = requests.get(url)\n",
    "    soup = BeautifulSoup(response.text, 'html.parser')\n",
    "    package_links = soup.find_all('a')\n",
    "    package_list = [link.text for link in package_links]\n",
    "    return package_list\n",
    "\n",
    "all_packages = get_package_list()\n",
    "\n",
    "def get_package_info(package_name):\n",
    "    url = f\"https://pypi.org/pypi/{package_name}/json\"\n",
    "    response = requests.get(url)\n",
    "    if response.status_code == 200:\n",
    "        return response.json()\n",
    "    else:\n",
    "        return None\n"
   ]
  },
  {
   "cell_type": "code",
   "execution_count": null,
   "id": "9a67e8d1-3b83-41d0-8ff3-b8f2d0c7aa78",
   "metadata": {},
   "outputs": [],
   "source": [
    "import polars as pl"
   ]
  },
  {
   "cell_type": "code",
   "execution_count": null,
   "id": "caf13777-d8db-41cf-87d4-d9d8b21fd987",
   "metadata": {},
   "outputs": [],
   "source": [
    "df = pl.read_csv(\"data/pypi_dataset.csv\")"
   ]
  },
  {
   "cell_type": "code",
   "execution_count": null,
   "id": "b5c1cc33-e506-4233-859a-3b52543b91c8",
   "metadata": {},
   "outputs": [],
   "source": [
    "df.tail(100)"
   ]
  },
  {
   "cell_type": "code",
   "execution_count": null,
   "id": "b4f3923d-8789-4bf7-bf5b-c5ce866ffd16",
   "metadata": {},
   "outputs": [],
   "source": [
    "list(df.head(3)['project_description'])"
   ]
  },
  {
   "cell_type": "code",
   "execution_count": null,
   "id": "842be041-86d6-431a-9e33-c7cbc28a1228",
   "metadata": {},
   "outputs": [],
   "source": []
  }
 ],
 "metadata": {
  "kernelspec": {
   "display_name": "Python 3 (ipykernel)",
   "language": "python",
   "name": "python3"
  },
  "language_info": {
   "codemirror_mode": {
    "name": "ipython",
    "version": 3
   },
   "file_extension": ".py",
   "mimetype": "text/x-python",
   "name": "python",
   "nbconvert_exporter": "python",
   "pygments_lexer": "ipython3",
   "version": "3.10.6"
  }
 },
 "nbformat": 4,
 "nbformat_minor": 5
}
