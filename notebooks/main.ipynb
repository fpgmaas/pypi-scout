{
 "cells": [
  {
   "cell_type": "code",
   "execution_count": null,
   "id": "4bb61e27-eacb-4404-be88-42b65a295c3f",
   "metadata": {},
   "outputs": [],
   "source": [
    "%load_ext autoreload\n",
    "%autoreload 2"
   ]
  },
  {
   "cell_type": "code",
   "execution_count": null,
   "id": "62d90df3-315d-4b22-a970-0d5fabf13db8",
   "metadata": {},
   "outputs": [],
   "source": [
    "import os\n",
    "os.chdir('..')"
   ]
  },
  {
   "cell_type": "code",
   "execution_count": null,
   "id": "6dabedd9-bca8-49ae-89db-e600363ca109",
   "metadata": {},
   "outputs": [],
   "source": [
    "import polars as pl\n",
    "from dotenv import load_dotenv\n",
    "from pypi_llm.config import Config\n",
    "from pypi_llm.data.description_cleaner import DescriptionCleaner, CLEANING_FAILED\n",
    "from pypi_llm.data.reader import DataReader\n",
    "\n",
    "load_dotenv()\n",
    "config = Config()\n",
    "\n",
    "df = DataReader(config.DATA_DIR).read()\n",
    "df = DescriptionCleaner().clean(df, \"description\", \"description_cleaned\")\n",
    "df = df.filter(~pl.col(\"description_cleaned\").is_null())\n",
    "df = df.filter(pl.col(\"description_cleaned\")!=CLEANING_FAILED)"
   ]
  },
  {
   "cell_type": "code",
   "execution_count": null,
   "id": "780c6b36-d0ce-4eb9-820c-e8e324115309",
   "metadata": {},
   "outputs": [],
   "source": [
    "query = \"I want to make beautiful data visualizations\""
   ]
  },
  {
   "cell_type": "code",
   "execution_count": null,
   "id": "053c9cf1-9f79-4b98-bcc9-85b6b676da84",
   "metadata": {},
   "outputs": [],
   "source": [
    "from sentence_transformers import SentenceTransformer\n",
    "model = SentenceTransformer(config.EMBEDDINGS_MODEL)\n",
    "embeddings = model.encode(query)\n",
    "\n",
    "from pinecone import Pinecone, Index\n",
    "pc = Pinecone(api_key=config.PINECONE_TOKEN)\n",
    "index = pc.Index(config.PINECONE_INDEX_NAME)\n",
    "\n",
    "matches = index.query(\n",
    "    namespace=\"ns1\",\n",
    "    vector=embeddings.tolist(),\n",
    "    top_k=50,\n",
    "    include_values=False\n",
    ")\n",
    "\n",
    "df_matches = pl.from_dicts([{'name' : x['id'], 'similarity': x['score']} for x in matches['matches']])\n",
    "\n",
    "df_matches = df_matches.join(df, how = 'left', on =  'name')\n",
    "\n",
    "df_matches.sort('weekly_downloads', descending=True)\n",
    "\n"
   ]
  }
 ],
 "metadata": {
  "kernelspec": {
   "display_name": "Python 3 (ipykernel)",
   "language": "python",
   "name": "python3"
  },
  "language_info": {
   "codemirror_mode": {
    "name": "ipython",
    "version": 3
   },
   "file_extension": ".py",
   "mimetype": "text/x-python",
   "name": "python",
   "nbconvert_exporter": "python",
   "pygments_lexer": "ipython3",
   "version": "3.10.14"
  }
 },
 "nbformat": 4,
 "nbformat_minor": 5
}
