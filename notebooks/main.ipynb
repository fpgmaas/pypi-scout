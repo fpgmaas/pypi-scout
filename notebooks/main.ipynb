{
 "cells": [
  {
   "cell_type": "code",
   "execution_count": null,
   "id": "4bb61e27-eacb-4404-be88-42b65a295c3f",
   "metadata": {},
   "outputs": [],
   "source": [
    "%load_ext autoreload\n",
    "%autoreload 2"
   ]
  },
  {
   "cell_type": "code",
   "execution_count": null,
   "id": "62d90df3-315d-4b22-a970-0d5fabf13db8",
   "metadata": {},
   "outputs": [],
   "source": [
    "import os\n",
    "os.chdir('..')"
   ]
  },
  {
   "cell_type": "code",
   "execution_count": null,
   "id": "6dabedd9-bca8-49ae-89db-e600363ca109",
   "metadata": {},
   "outputs": [],
   "source": [
    "import polars as pl\n",
    "from dotenv import load_dotenv\n",
    "from pypi_scout.config import Config\n",
    "from pypi_scout.data.description_cleaner import DescriptionCleaner, CLEANING_FAILED\n",
    "from pypi_scout.data.reader import DataReader\n",
    "from sentence_transformers import SentenceTransformer\n",
    "from pypi_scout.vector_database import VectorDatabaseInterface\n",
    "\n",
    "load_dotenv()\n",
    "config = Config()\n",
    "\n",
    "# Load dataset and model\n",
    "df = pl.read_csv(config.DATA_DIR / config.PROCESSED_DATASET_CSV_NAME)\n",
    "model = SentenceTransformer(config.EMBEDDINGS_MODEL_NAME)\n",
    "\n",
    "# Initialize vector database interface\n",
    "vector_database_interface = VectorDatabaseInterface(\n",
    "    pinecone_token=config.PINECONE_TOKEN,\n",
    "    pinecone_index_name=config.PINECONE_INDEX_NAME,\n",
    "    embeddings_model=model,\n",
    "    pinecone_namespace=config.PINECONE_NAMESPACE,\n",
    ")"
   ]
  },
  {
   "cell_type": "code",
   "execution_count": null,
   "id": "780c6b36-d0ce-4eb9-820c-e8e324115309",
   "metadata": {},
   "outputs": [],
   "source": [
    "with pl.Config(fmt_str_lengths=100):\n",
    "    display(df.head(10))"
   ]
  },
  {
   "cell_type": "code",
   "execution_count": null,
   "id": "bf393f0c-92c6-4d4a-bd97-d3ea7ebf2b80",
   "metadata": {},
   "outputs": [],
   "source": [
    "query = \"find unused packages\""
   ]
  },
  {
   "cell_type": "code",
   "execution_count": null,
   "id": "07ebd4fd-a0b9-4958-8325-bdff4be45a66",
   "metadata": {},
   "outputs": [],
   "source": [
    "df_matches = vector_database_interface.find_similar(query, top_k=100)\n",
    "df_matches = df_matches.join(df, how=\"left\", on=\"name\")\n",
    "df_matches = df_matches.sort(\"similarity\", descending=True)"
   ]
  },
  {
   "cell_type": "code",
   "execution_count": null,
   "id": "fa071203-a3cd-4e80-a7b7-0ac7562bef8d",
   "metadata": {},
   "outputs": [],
   "source": [
    "df_matches"
   ]
  },
  {
   "cell_type": "code",
   "execution_count": null,
   "id": "8b7b28e7-495c-44db-a939-dfa3e2c45159",
   "metadata": {},
   "outputs": [],
   "source": [
    "# Rank the columns\n",
    "df_matches = df_matches.with_columns(\n",
    "    rank_similarity=pl.col(\"similarity\").rank(\"dense\", descending=False),\n",
    "    rank_weekly_downloads=pl.col(\"weekly_downloads\").rank(\"dense\", descending=False)\n",
    ")\n",
    "\n",
    "df_matches = df_matches.with_columns(\n",
    "    normalized_similarity=(pl.col(\"rank_similarity\") - 1) / (df_matches['rank_similarity'].max() - 1),\n",
    "    normalized_weekly_downloads=(pl.col(\"rank_weekly_downloads\") - 1) / (df_matches['rank_weekly_downloads'].max() - 1)\n",
    ")\n",
    "\n",
    "df_matches = df_matches.with_columns(\n",
    "    score=0.5 * pl.col(\"normalized_similarity\") + 0.5 * pl.col(\"normalized_weekly_downloads\")\n",
    ")\n",
    "\n",
    "# Sort the DataFrame by the combined score in descending order\n",
    "df_matches = df_matches.sort(\"score\", descending=True)"
   ]
  },
  {
   "cell_type": "code",
   "execution_count": null,
   "id": "d5465cec-c717-4fc5-aa55-c4c7dc9e79cf",
   "metadata": {},
   "outputs": [],
   "source": [
    "df_matches.sort(\"score\", descending=True)"
   ]
  },
  {
   "cell_type": "code",
   "execution_count": null,
   "id": "4384f057-8eaf-431d-a31a-f4f7e203ed35",
   "metadata": {},
   "outputs": [],
   "source": []
  }
 ],
 "metadata": {
  "kernelspec": {
   "display_name": "Python 3 (ipykernel)",
   "language": "python",
   "name": "python3"
  },
  "language_info": {
   "codemirror_mode": {
    "name": "ipython",
    "version": 3
   },
   "file_extension": ".py",
   "mimetype": "text/x-python",
   "name": "python",
   "nbconvert_exporter": "python",
   "pygments_lexer": "ipython3",
   "version": "3.10.14"
  }
 },
 "nbformat": 4,
 "nbformat_minor": 5
}
